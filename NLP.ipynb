{
 "cells": [
  {
   "cell_type": "code",
   "execution_count": 7,
   "id": "66b05d9f",
   "metadata": {},
   "outputs": [
    {
     "name": "stdout",
     "output_type": "stream",
     "text": [
      "10\n",
      "20\n",
      "40\n",
      "50\n"
     ]
    }
   ],
   "source": [
    "# To check the working of functions\n",
    "def disp(*a):\n",
    "    for i in a:\n",
    "        print(i)\n",
    "\n",
    "disp(10,20,40,50)"
   ]
  },
  {
   "cell_type": "code",
   "execution_count": 1,
   "id": "b1f367f9",
   "metadata": {},
   "outputs": [
    {
     "name": "stdin",
     "output_type": "stream",
     "text": [
      "Enter the first number:  5\n",
      "Enter the second number:  7\n",
      "Enter the third number:  9\n"
     ]
    },
    {
     "name": "stdout",
     "output_type": "stream",
     "text": [
      "9\n",
      "7\n"
     ]
    }
   ],
   "source": [
    "# Python function to find the maximum of any given set of numbers\n",
    "def max_of_two( x, y ):\n",
    "    if x > y:\n",
    "        return x\n",
    "    return y\n",
    "def max_of_three( x, y, z ):\n",
    "    return max_of_two( x, max_of_two( y, z ) )\n",
    "a=int(input('Enter the first number: '))\n",
    "b=int(input('Enter the second number: '))\n",
    "c=int(input('Enter the third number: '))\n",
    "print(max_of_three(a,b,c))\n",
    "print(max_of_two(a,b))"
   ]
  },
  {
   "cell_type": "code",
   "execution_count": 2,
   "id": "b79c2679",
   "metadata": {},
   "outputs": [
    {
     "name": "stdout",
     "output_type": "stream",
     "text": [
      "25\n"
     ]
    }
   ],
   "source": [
    "# Python function to sum and multiply all the numbers in a list.\n",
    "def sum(num):\n",
    "    tot = 0\n",
    "    for x in num:\n",
    "        tot += x\n",
    "    return tot\n",
    "num=[8,5,3,4,5]\n",
    "print(sum(num))"
   ]
  },
  {
   "cell_type": "code",
   "execution_count": 3,
   "id": "1ae50ad0",
   "metadata": {},
   "outputs": [
    {
     "name": "stdout",
     "output_type": "stream",
     "text": [
      "2400\n"
     ]
    }
   ],
   "source": [
    "# Python function to multiply all the numbers in a list.\n",
    "def sum(num):\n",
    "    tot=1\n",
    "    for x in num:\n",
    "        tot *= x\n",
    "    return tot\n",
    "num=[8,5,3,4,5]\n",
    "print(sum(num))"
   ]
  },
  {
   "cell_type": "code",
   "execution_count": 13,
   "id": "e47b48d4",
   "metadata": {},
   "outputs": [
    {
     "name": "stdin",
     "output_type": "stream",
     "text": [
      "Enter the number to compute the factorial: 10\n"
     ]
    },
    {
     "name": "stdout",
     "output_type": "stream",
     "text": [
      "3628800\n"
     ]
    }
   ],
   "source": [
    "# Python function to calculate the factorial of a number (a non-negative integer). The function \n",
    "# accepts the number as an argument.\n",
    "def factorial(n):\n",
    "    try:\n",
    "        if n == 0:\n",
    "            return 1\n",
    "        else:\n",
    "            return n * factorial(n-1)\n",
    "    \n",
    "    except:\n",
    "        print(\"Enter a positive number\")\n",
    "    \n",
    "n=int(input('Enter the number to compute the factorial:'))\n",
    "print(factorial(n))"
   ]
  },
  {
   "cell_type": "code",
   "execution_count": 15,
   "id": "642808e7",
   "metadata": {},
   "outputs": [
    {
     "name": "stdin",
     "output_type": "stream",
     "text": [
      "Enter the number to check:  50\n"
     ]
    },
    {
     "name": "stdout",
     "output_type": "stream",
     "text": [
      "The number is outside the range\n"
     ]
    }
   ],
   "source": [
    "# Python function to check whether a number falls in a given range\n",
    "def test_range(n):\n",
    "    if n in range(2,10):\n",
    "        print('The number is in the range')\n",
    "    else:\n",
    "        print('The number is outside the range')\n",
    "\n",
    "A=int(input('Enter the number to check: '))\n",
    "test_range(A)"
   ]
  },
  {
   "cell_type": "code",
   "execution_count": 5,
   "id": "fc72dfef",
   "metadata": {},
   "outputs": [
    {
     "name": "stdout",
     "output_type": "stream",
     "text": [
      "Enter the String: is it fair to live in bangalore\n",
      "The given string is: is it fair to live in bangalore\n",
      "The number of Upper case characters:  0\n",
      "The number of Lower case characters:  25\n"
     ]
    }
   ],
   "source": [
    "# Python function that accepts a string and calculate the number of upper case letters and lower case letters.\n",
    "def string_check(a):\n",
    "    d={'UPPER_CASE':0, 'LOWER_CASE':0}\n",
    "    for c in a:\n",
    "        if c.isupper():\n",
    "            d[\"UPPER_CASE\"] += 1\n",
    "        elif c.islower():\n",
    "            d[\"LOWER_CASE\"] += 1 \n",
    "        else:\n",
    "            pass\n",
    "\n",
    "    print('The given string is:', a)\n",
    "    print('The number of Upper case characters: ', d['UPPER_CASE'])\n",
    "    print('The number of Lower case characters: ', d['LOWER_CASE'])\n",
    "\n",
    "check=input(\"Enter the String: \")\n",
    "string_check(check)"
   ]
  },
  {
   "cell_type": "code",
   "execution_count": 4,
   "id": "608fa0af",
   "metadata": {},
   "outputs": [
    {
     "name": "stdout",
     "output_type": "stream",
     "text": [
      "[1, 2, 3, 4, 5]\n"
     ]
    }
   ],
   "source": [
    "# Python function that takes a list and returns a new list with unique elements of the first list.\n",
    "def unique_list(l):\n",
    "    x = []\n",
    "    for a in l:\n",
    "        if a not in x:\n",
    "            x.append(a)\n",
    "    return x\n",
    "\n",
    "print(unique_list([1,2,3,3,3,3,4,5])) "
   ]
  },
  {
   "cell_type": "code",
   "execution_count": 11,
   "id": "9c59a577",
   "metadata": {},
   "outputs": [
    {
     "name": "stdin",
     "output_type": "stream",
     "text": [
      "Enter the number:  5\n"
     ]
    },
    {
     "name": "stdout",
     "output_type": "stream",
     "text": [
      "True\n"
     ]
    }
   ],
   "source": [
    "# Python function that takes a number as a parameter and check the number is prime or not.\n",
    "def test_prime(n):\n",
    "    if (n==1):\n",
    "        return False\n",
    "    elif (n==2):\n",
    "        return True;\n",
    "    else:\n",
    "        for x in range(2,n):\n",
    "            if(n % x==0):\n",
    "                return False\n",
    "        return True  \n",
    "\n",
    "n=int(input(\"Enter the number: \"))\n",
    "print(test_prime(n))"
   ]
  },
  {
   "cell_type": "code",
   "execution_count": 16,
   "id": "25ee7155",
   "metadata": {
    "tags": []
   },
   "outputs": [
    {
     "name": "stdout",
     "output_type": "stream",
     "text": [
      "[[2, 4, 6, 8, 10], [1, 3, 5, 7, 9]]\n"
     ]
    }
   ],
   "source": [
    "# Python program to print the even and odd numbers from a given list.\n",
    "\n",
    "# Create the function\n",
    "def even_odd(lst):\n",
    "    enum = []\n",
    "    eodd = []\n",
    "    for n in lst:\n",
    "        if n % 2 == 0:\n",
    "            enum.append(n)\n",
    "        else:\n",
    "            eodd.append(n)\n",
    "    return [enum, eodd]\n",
    "\n",
    "# Given list\n",
    "lst= [1, 2, 3, 4, 5, 6, 7, 8, 9, 10]\n",
    "# print the output\n",
    "print(even_odd(lst))"
   ]
  },
  {
   "cell_type": "code",
   "execution_count": 26,
   "id": "35cf599e",
   "metadata": {
    "tags": []
   },
   "outputs": [
    {
     "name": "stdin",
     "output_type": "stream",
     "text": [
      "Enter number of elements :  6\n",
      " 7\n",
      " 90\n",
      " 34\n",
      " 23\n",
      " 68\n",
      " 32\n"
     ]
    },
    {
     "name": "stdout",
     "output_type": "stream",
     "text": [
      "[90, 34, 68, 32]\n"
     ]
    }
   ],
   "source": [
    "# Python function to find the even numbers from the list\n",
    "\n",
    "def is_even_num(l):\n",
    "    enum = []\n",
    "    for n in l:\n",
    "        if n % 2 == 0:\n",
    "            enum.append(n)\n",
    "    return enum\n",
    "\n",
    "#Input the list\n",
    "# creating an empty list\n",
    "lst = []\n",
    "  \n",
    "# number of elements as input\n",
    "n = int(input(\"Enter number of elements : \"))\n",
    "  \n",
    "# iterating till the range\n",
    "for i in range(0, n):\n",
    "    ele = int(input())\n",
    "  \n",
    "    lst.append(ele) # adding the element\n",
    "\n",
    "#Check the even numbers from the list\n",
    "even=is_even_num(lst)\n",
    "print(even)"
   ]
  },
  {
   "cell_type": "code",
   "execution_count": 32,
   "id": "aab7022c",
   "metadata": {
    "tags": []
   },
   "outputs": [
    {
     "name": "stdout",
     "output_type": "stream",
     "text": [
      "True\n"
     ]
    }
   ],
   "source": [
    "# Python function that checks whether a passed string is palindrome or not\n",
    "def isPalindrome(string):\n",
    "    left_pos = 0\n",
    "    right_pos = len(string) - 1\n",
    "    \n",
    "    while right_pos >= left_pos:\n",
    "        if not string[left_pos] == string[right_pos]:\n",
    "            return False\n",
    "        left_pos += 1\n",
    "        right_pos -= 1\n",
    "    return True\n",
    "\n",
    "print(isPalindrome('RUNNUR'))"
   ]
  },
  {
   "cell_type": "code",
   "execution_count": 13,
   "id": "f7ed2fee",
   "metadata": {},
   "outputs": [
    {
     "name": "stdout",
     "output_type": "stream",
     "text": [
      "Raghavendra 40\n"
     ]
    }
   ],
   "source": [
    "# Create a function which can accept two arguments name and age and print its value\n",
    "\n",
    "def exam(name,age):\n",
    "#def exam(*name):\n",
    "#print(name)\n",
    "     print(name, age)\n",
    "#     return name, age\n",
    "\n",
    "#exam(\"Rahul\",35)\n",
    "#exam(name=\"Gajendra\",age=20)\n",
    "exam(age=40,name=\"Raghavendra\")\n",
    "#exam('Gnanendra',20)\n",
    "#exam(\"Ramesh\", 76)"
   ]
  },
  {
   "cell_type": "code",
   "execution_count": 14,
   "id": "2557147f",
   "metadata": {},
   "outputs": [
    {
     "name": "stdout",
     "output_type": "stream",
     "text": [
      "10\n",
      "20\n",
      "50\n",
      "80\n",
      "100\n",
      "150\n",
      "200\n",
      "250\n",
      "1000\n"
     ]
    }
   ],
   "source": [
    "#Create a function such that it can accept a variable length of an argument and print it\n",
    "\n",
    "def func1(*args):\n",
    "    for i in args:\n",
    "        print(i)\n",
    "#    print(args)\n",
    "\n",
    "#func1(2, 4, 6, 8, 10)\n",
    "func1(10, 20, 50, 80,100,150,200,250,1000)\n",
    "#func1(10)"
   ]
  },
  {
   "cell_type": "code",
   "execution_count": 4,
   "id": "9183f3de",
   "metadata": {},
   "outputs": [
    {
     "name": "stdout",
     "output_type": "stream",
     "text": [
      "The name of the Employee is: Harsha and his salary is:: 20000\n",
      "His first name is Ravi\n",
      "His last name is Shashtri\n"
     ]
    }
   ],
   "source": [
    "#Create a function to accept the name of the employee and his income.\n",
    "#Display the name and salary as the output\n",
    "\n",
    "def emply(name,income):\n",
    "    print(\"The name of the Employee is:\", name,\"and his salary is::\",income)\n",
    "\n",
    "emply(\"Harsha\", 20000)\n",
    "#emply(name=\"Vijay\", income=40000)\n",
    "#emply(income=40000, name=\"Vijay\")\n",
    "\n",
    "# If the Keyword arguments are unknown\n",
    "def my_function(**name):\n",
    "  print(\"His first name is \" + name[\"fname\"])\n",
    "  print(\"His last name is \" + name[\"lname\"])\n",
    "\n",
    "#my_function(fname = \"Rahul\", lname = \"Dravid\")\n",
    "my_function(lname = \"Shashtri\", fname = \"Ravi\")"
   ]
  },
  {
   "cell_type": "code",
   "execution_count": 16,
   "id": "347e7e84",
   "metadata": {},
   "outputs": [
    {
     "name": "stdout",
     "output_type": "stream",
     "text": [
      "210\n"
     ]
    }
   ],
   "source": [
    "# Recursive function to calculate the sum of numbers from num (0 to 20)\n",
    "\n",
    "def calsum(num):\n",
    "    if num:\n",
    "        return num + calsum(num-1)\n",
    "    else:\n",
    "        return 0\n",
    "\n",
    "sum = calsum(20)\n",
    "print(sum)"
   ]
  },
  {
   "cell_type": "code",
   "execution_count": 17,
   "id": "6f472928",
   "metadata": {},
   "outputs": [
    {
     "name": "stdout",
     "output_type": "stream",
     "text": [
      "Jeeval 10\n"
     ]
    }
   ],
   "source": [
    "#Create a function and assign a different name and call it through the new name\n",
    "\n",
    "def oldname(name,age):\n",
    "    print(name,age)\n",
    "\n",
    "newname = oldname\n",
    "newname(\"Jeeval\", 10)"
   ]
  },
  {
   "cell_type": "code",
   "execution_count": 18,
   "id": "12cc2daa",
   "metadata": {},
   "outputs": [
    {
     "name": "stdout",
     "output_type": "stream",
     "text": [
      "My name\n",
      "Acharya\n",
      "Our college name is BMSCE\n"
     ]
    }
   ],
   "source": [
    "# Python function to return a list of strings\n",
    "\n",
    "def list1(name):\n",
    "    return print(name)\n",
    "\n",
    "def list2(college):\n",
    "    return print(college)\n",
    "\n",
    "def list3(fool):\n",
    "    return print(fool)\n",
    "\n",
    "list1(\"My name\")\n",
    "list2(\"Acharya\")\n",
    "list3(\"Our college name is BMSCE\")"
   ]
  },
  {
   "cell_type": "code",
   "execution_count": 25,
   "id": "0cf8ff6d",
   "metadata": {},
   "outputs": [
    {
     "name": "stdout",
     "output_type": "stream",
     "text": [
      "Hello, Devaraj. Good morning!\n"
     ]
    }
   ],
   "source": [
    "# This function greets the person passed as parameter\n",
    "def greet(name):\n",
    "    print(\"Hello, \" +name+ \". Good morning!\")\n",
    "\n",
    "greet('Devaraj')"
   ]
  },
  {
   "cell_type": "code",
   "execution_count": 26,
   "id": "1ff02941",
   "metadata": {},
   "outputs": [
    {
     "name": "stdout",
     "output_type": "stream",
     "text": [
      "[0, 1, 2, 3, 4, 5, 6, 7, 8, 9]\n"
     ]
    }
   ],
   "source": [
    "# Python function to return list from function\n",
    "\n",
    "def retList():\n",
    "    list = []\n",
    "    for i in range(0,10):\n",
    "        list.append(i)\n",
    "    return list\n",
    "a = retList()\n",
    "print(a)"
   ]
  },
  {
   "cell_type": "code",
   "execution_count": 8,
   "id": "3a42b86d",
   "metadata": {},
   "outputs": [
    {
     "name": "stdout",
     "output_type": "stream",
     "text": [
      "Input the number of string elements in the list: 2\n",
      "Enter the string with quotes: 3\n",
      "Enter the string with quotes: 5\n",
      "['3', '5']\n"
     ]
    }
   ],
   "source": [
    "# Python function to return list of strings\n",
    "\n",
    "def test(x):\n",
    "    n=len(x)\n",
    "    l=[]\n",
    "    for i in range(len(lst)):\n",
    "            l.append(x[i])\n",
    "    return l\n",
    "\n",
    "# Define the list of strings\n",
    "m=int(input(\"Input the number of string elements in the list: \"))\n",
    "lst = [input(\"Enter the string with quotes: \") for i in range(m)]\n",
    "ret=test(lst)\n",
    "print(ret)"
   ]
  },
  {
   "cell_type": "code",
   "execution_count": 7,
   "id": "92bd56db",
   "metadata": {},
   "outputs": [
    {
     "name": "stdout",
     "output_type": "stream",
     "text": [
      "Enter the number:2\n",
      "011\n"
     ]
    }
   ],
   "source": [
    "# Python function Fibnocci series upto n\n",
    "def fib(n):\n",
    "    a,b = 0,1\n",
    "    while a < n:\n",
    "        print(a, end='')\n",
    "        a, b = b, a+b\n",
    "    print()\n",
    "\n",
    "# Input the value to find the fibnocci series\n",
    "n = int(input(\"Enter the number:\"))\n",
    "fib(n)"
   ]
  },
  {
   "cell_type": "code",
   "execution_count": 53,
   "id": "9d7f49f7-8401-42ea-ae45-e9ae940633dc",
   "metadata": {
    "tags": []
   },
   "outputs": [
    {
     "name": "stdin",
     "output_type": "stream",
     "text": [
      "Enter the number: 0\n"
     ]
    },
    {
     "name": "stdout",
     "output_type": "stream",
     "text": [
      "False\n"
     ]
    }
   ],
   "source": [
    "# Python program to check if given number is power of 2 or not\n",
    "\n",
    "def power_of_two(n):\n",
    "    if n == 0:\n",
    "        return False\n",
    "    while n != 1:\n",
    "        if n % 2 != 0:\n",
    "            return False\n",
    "        n = n // 2\n",
    "    return True\n",
    "\n",
    "# Enter the number\n",
    "num=int(input(\"Enter the number:\"))\n",
    "# Driver code\n",
    "print(power_of_two(num))"
   ]
  },
  {
   "cell_type": "code",
   "execution_count": 40,
   "id": "0ebf6fd0",
   "metadata": {
    "tags": []
   },
   "outputs": [
    {
     "name": "stdout",
     "output_type": "stream",
     "text": [
      "[24, 35, 9, 56, 12]\n"
     ]
    }
   ],
   "source": [
    "def swapList(newList): \n",
    "    size = len(newList)\n",
    "    # Swapping\n",
    "    temp = newList[0]\n",
    "    newList[0] = newList[size - 1] \n",
    "    newList[size - 1] = temp\n",
    "    return newList\n",
    "newList = [12, 35, 9, 56, 24] \n",
    "print(swapList(newList))"
   ]
  },
  {
   "cell_type": "code",
   "execution_count": 1,
   "id": "0ec901a3",
   "metadata": {
    "tags": []
   },
   "outputs": [
    {
     "name": "stdin",
     "output_type": "stream",
     "text": [
      "Enter any number:  6\n"
     ]
    },
    {
     "name": "stdout",
     "output_type": "stream",
     "text": [
      "The number is a Perfect number!\n",
      "None\n"
     ]
    }
   ],
   "source": [
    "#Write a function “perfect_number()” that determines if parameter number is a perfect number or not\n",
    "\n",
    "def perfect_number(n):\n",
    "    sum = 0\n",
    "    for x in range(1, n):\n",
    "        if n % x == 0:\n",
    "            sum += x\n",
    "    if (sum == n):\n",
    "        print(\"The number is a Perfect number!\")\n",
    "    else:\n",
    "        print(\"The number is not a Perfect number!\")\n",
    "\n",
    "n = int(input(\"Enter any number: \"))\n",
    "print(perfect_number(n))"
   ]
  },
  {
   "cell_type": "code",
   "execution_count": 5,
   "id": "ee8f10a5-a885-4321-94d0-d9f8f9343302",
   "metadata": {},
   "outputs": [
    {
     "name": "stdout",
     "output_type": "stream",
     "text": [
      "30\n"
     ]
    }
   ],
   "source": [
    "# Function to define the local and global variable\n",
    "b=20 # Global\n",
    "sum=0\n",
    "def addition(a,b):\n",
    "    a=10 # Local\n",
    "    sum = a+b\n",
    "    return sum\n",
    "\n",
    "res=addition(a,b)\n",
    "print(res)"
   ]
  },
  {
   "cell_type": "code",
   "execution_count": null,
   "id": "c770de18-d2a5-43e5-8d66-e28cf46d6bbb",
   "metadata": {},
   "outputs": [],
   "source": []
  }
 ],
 "metadata": {
  "kernelspec": {
   "display_name": "Python 3 (ipykernel)",
   "language": "python",
   "name": "python3"
  },
  "language_info": {
   "codemirror_mode": {
    "name": "ipython",
    "version": 3
   },
   "file_extension": ".py",
   "mimetype": "text/x-python",
   "name": "python",
   "nbconvert_exporter": "python",
   "pygments_lexer": "ipython3",
   "version": "3.11.3"
  }
 },
 "nbformat": 4,
 "nbformat_minor": 5
}
